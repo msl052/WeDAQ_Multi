{
 "cells": [
  {
   "cell_type": "markdown",
   "id": "ff7d27a8-8ae1-4467-b909-232c78a9a8fc",
   "metadata": {},
   "source": [
    "## Import Libraries"
   ]
  },
  {
   "cell_type": "code",
   "execution_count": 1,
   "id": "cf166233-5717-433f-9c5f-1100d474d5e0",
   "metadata": {},
   "outputs": [],
   "source": [
    "import argparse\n",
    "import time\n",
    "import numpy as np\n",
    "\n",
    "from multiprocessing import Queue, Pipe\n",
    "\n",
    "import brainflow\n",
    "from brainflow.board_shim import BoardShim, BrainFlowInputParams, BoardIds\n",
    "from brainflow.data_filter import DataFilter, FilterTypes, AggOperations\n",
    "\n",
    "from pylsl import StreamInfo, StreamOutlet, local_clock"
   ]
  },
  {
   "cell_type": "markdown",
   "id": "8de9e8e9-44b2-4605-b265-c902a9c45073",
   "metadata": {},
   "source": [
    "##  Configure Board Parameters with Brainflow"
   ]
  },
  {
   "cell_type": "code",
   "execution_count": 2,
   "id": "ab2e4e78-bcf9-4b4d-94cc-ab773685a176",
   "metadata": {},
   "outputs": [
    {
     "name": "stdout",
     "output_type": "stream",
     "text": [
      "Sampling Rate:  1000\n",
      "Device name:  CytonDaisyWifi\n"
     ]
    },
    {
     "ename": "BrainFlowError",
     "evalue": "BOARD_WRITE_ERROR:4 unable to prepare streaming session",
     "output_type": "error",
     "traceback": [
      "\u001b[1;31m---------------------------------------------------------------------------\u001b[0m",
      "\u001b[1;31mBrainFlowError\u001b[0m                            Traceback (most recent call last)",
      "\u001b[1;32m~\\AppData\\Local\\Temp/ipykernel_16412/1160123466.py\u001b[0m in \u001b[0;36m<module>\u001b[1;34m\u001b[0m\n\u001b[0;32m     11\u001b[0m \u001b[1;31m#print(\"Is prepared: \", board.is_prepared());\u001b[0m\u001b[1;33m\u001b[0m\u001b[1;33m\u001b[0m\u001b[0m\n\u001b[0;32m     12\u001b[0m \u001b[1;33m\u001b[0m\u001b[0m\n\u001b[1;32m---> 13\u001b[1;33m \u001b[0mboard\u001b[0m\u001b[1;33m.\u001b[0m\u001b[0mprepare_session\u001b[0m\u001b[1;33m(\u001b[0m\u001b[1;33m)\u001b[0m\u001b[1;33m\u001b[0m\u001b[1;33m\u001b[0m\u001b[0m\n\u001b[0m",
      "\u001b[1;32m~\\anaconda3\\envs\\brainflow_conda_environments\\lib\\site-packages\\brainflow\\board_shim.py\u001b[0m in \u001b[0;36mprepare_session\u001b[1;34m(self)\u001b[0m\n\u001b[0;32m    962\u001b[0m         \u001b[0mres\u001b[0m \u001b[1;33m=\u001b[0m \u001b[0mBoardControllerDLL\u001b[0m\u001b[1;33m.\u001b[0m\u001b[0mget_instance\u001b[0m\u001b[1;33m(\u001b[0m\u001b[1;33m)\u001b[0m\u001b[1;33m.\u001b[0m\u001b[0mprepare_session\u001b[0m\u001b[1;33m(\u001b[0m\u001b[0mself\u001b[0m\u001b[1;33m.\u001b[0m\u001b[0mboard_id\u001b[0m\u001b[1;33m,\u001b[0m \u001b[0mself\u001b[0m\u001b[1;33m.\u001b[0m\u001b[0minput_json\u001b[0m\u001b[1;33m)\u001b[0m\u001b[1;33m\u001b[0m\u001b[1;33m\u001b[0m\u001b[0m\n\u001b[0;32m    963\u001b[0m         \u001b[1;32mif\u001b[0m \u001b[0mres\u001b[0m \u001b[1;33m!=\u001b[0m \u001b[0mBrainflowExitCodes\u001b[0m\u001b[1;33m.\u001b[0m\u001b[0mSTATUS_OK\u001b[0m\u001b[1;33m.\u001b[0m\u001b[0mvalue\u001b[0m\u001b[1;33m:\u001b[0m\u001b[1;33m\u001b[0m\u001b[1;33m\u001b[0m\u001b[0m\n\u001b[1;32m--> 964\u001b[1;33m             \u001b[1;32mraise\u001b[0m \u001b[0mBrainFlowError\u001b[0m\u001b[1;33m(\u001b[0m\u001b[1;34m'unable to prepare streaming session'\u001b[0m\u001b[1;33m,\u001b[0m \u001b[0mres\u001b[0m\u001b[1;33m)\u001b[0m\u001b[1;33m\u001b[0m\u001b[1;33m\u001b[0m\u001b[0m\n\u001b[0m\u001b[0;32m    965\u001b[0m \u001b[1;33m\u001b[0m\u001b[0m\n\u001b[0;32m    966\u001b[0m     \u001b[1;32mdef\u001b[0m \u001b[0mstart_stream\u001b[0m\u001b[1;33m(\u001b[0m\u001b[0mself\u001b[0m\u001b[1;33m,\u001b[0m \u001b[0mnum_samples\u001b[0m\u001b[1;33m:\u001b[0m \u001b[0mint\u001b[0m \u001b[1;33m=\u001b[0m \u001b[1;36m1800\u001b[0m \u001b[1;33m*\u001b[0m \u001b[1;36m250\u001b[0m\u001b[1;33m,\u001b[0m \u001b[0mstreamer_params\u001b[0m\u001b[1;33m:\u001b[0m \u001b[0mstr\u001b[0m \u001b[1;33m=\u001b[0m \u001b[1;32mNone\u001b[0m\u001b[1;33m)\u001b[0m \u001b[1;33m->\u001b[0m \u001b[1;32mNone\u001b[0m\u001b[1;33m:\u001b[0m\u001b[1;33m\u001b[0m\u001b[1;33m\u001b[0m\u001b[0m\n",
      "\u001b[1;31mBrainFlowError\u001b[0m: BOARD_WRITE_ERROR:4 unable to prepare streaming session"
     ]
    }
   ],
   "source": [
    "params = BrainFlowInputParams();\n",
    "#params.ip_address = \"192.168.4.1\"; # for direct connect\n",
    "params.ip_address = \"192.168.0.100\";\n",
    "params.ip_port = 6677;\n",
    "params.timeout = 0;\n",
    "board_id = BoardIds.CYTON_DAISY_WIFI_BOARD.value;\n",
    "board = BoardShim(board_id,params);\n",
    "print(\"Sampling Rate: \", board.get_sampling_rate(BoardIds.CYTON_DAISY_WIFI_BOARD.value));\n",
    "print(\"Device name: \", board.get_device_name(BoardIds.CYTON_DAISY_WIFI_BOARD.value));\n",
    "#print(board.get_sampling_rate(BoardIds.CYTON_DAISY_WIFI_BOARD.value));\n",
    "#print(\"Is prepared: \", board.is_prepared());\n",
    "\n",
    "board.prepare_session()"
   ]
  },
  {
   "cell_type": "markdown",
   "id": "3decbc53-2fd4-4ff5-b572-0de7225778b7",
   "metadata": {
    "tags": []
   },
   "source": [
    "## LSL Initialization "
   ]
  },
  {
   "cell_type": "code",
   "execution_count": null,
   "id": "61a97799-f9c2-4632-b9ad-63bc9ff5e878",
   "metadata": {},
   "outputs": [],
   "source": [
    "# LSL initialization\n",
    "def channel_select(board, board_id, data_type): \n",
    "    switcher = { \n",
    "        'EXG': board.get_exg_channels(board_id),\n",
    "        # can add more\n",
    "    }\n",
    " \n",
    "    return switcher.get(data_type, \"error\")\n",
    "\n",
    "eeg_channels = BoardShim.get_eeg_channels(board_id)\n",
    "chans = channel_select(board, board.board_id, 'EXG')\n",
    "n_channels = len(eeg_channels)\n",
    "#n_channels = 8;\n",
    "srate = board.get_sampling_rate(board.board_id)\n",
    "info = StreamInfo('OpenBCIEEG1', 'EXG', n_channels, srate, 'double64', 'OpenBCItestEEG1')\n",
    "outlet = StreamOutlet(info)\n",
    "fw_delay = 0"
   ]
  },
  {
   "cell_type": "markdown",
   "id": "afed66a4-7475-4114-baa7-81568e9ab2a3",
   "metadata": {},
   "source": [
    "## Board Settings"
   ]
  },
  {
   "cell_type": "markdown",
   "id": "2eecfb98-5211-49b0-856c-25e6ae7c859e",
   "metadata": {
    "tags": []
   },
   "source": [
    "### Channel Settings"
   ]
  },
  {
   "cell_type": "code",
   "execution_count": null,
   "id": "88e5a532-4468-4035-b396-135ccaee05c8",
   "metadata": {},
   "outputs": [],
   "source": [
    "# send commands to the board for every channel. Cyton has 8 Channels. Here, we turn off every channel except for 1 and 8.\n",
    "# This is here for testing purposes.\n",
    "#https://docs.openbci.com/Cyton/CytonSDK/#channel-setting-commands\n",
    "#board.config_board(\"x1000110X\") #Lower the gain to 1x on channel 1\n",
    "#board.config_board(\"x1061000X\")\n",
    "#board.config_board(\"x2161000X\")\n",
    "#board.config_board(\"x3161000X\")\n",
    "#board.config_board(\"x4161000X\")\n",
    "#board.config_board(\"x5161000X\")\n",
    "#board.config_board(\"x6161000X\")\n",
    "#board.config_board(\"x7161000X\")\n",
    "#board.config_board(\"x8060110X\")\n",
    "#board.config_board(\"d\");\n",
    "#board.config_board(\"j\");\n",
    "#board.config_board(\"c\"); # only 8 channels instead of 16\n",
    "board.config_board(\"x1060001X\")\n",
    "board.config_board(\"x2064001X\")\n",
    "board.config_board(\"x3161000X\")\n",
    "board.config_board(\"x4161000X\")\n",
    "board.config_board(\"x5161000X\")\n",
    "board.config_board(\"x6161000X\")\n",
    "board.config_board(\"x7161000X\")\n",
    "board.config_board(\"x8161000X\")\n",
    "board.config_board(\"xQ161000X\")\n",
    "board.config_board(\"xW161000X\")\n",
    "board.config_board(\"xE161000X\")\n",
    "board.config_board(\"xR161000X\")\n",
    "board.config_board(\"xT161000X\")\n",
    "board.config_board(\"xY161000X\")\n",
    "board.config_board(\"xU161000X\")\n",
    "board.config_board(\"xI161000X\")"
   ]
  },
  {
   "cell_type": "code",
   "execution_count": null,
   "id": "3039b9e2",
   "metadata": {},
   "outputs": [],
   "source": [
    "# Set Channels to Test Signal, Temp, Short, Regular\n",
    "\n",
    "#board.config_board(\"x1060001X\")\n",
    "#board.config_board(\"x2061001X\")\n",
    "#board.config_board(\"x3064001X\")\n",
    "#board.config_board(\"x4065001X\")\n",
    "#board.config_board(\"x5060001X\")\n",
    "#board.config_board(\"x6061001X\")\n",
    "#board.config_board(\"x7064001X\")\n",
    "#board.config_board(\"x8065001X\")\n",
    "#board.config_board(\"xQ060001X\")\n",
    "#board.config_board(\"xW061001X\")\n",
    "#board.config_board(\"xE064001X\")\n",
    "#board.config_board(\"xR065001X\")\n",
    "#board.config_board(\"xT060001X\")\n",
    "#board.config_board(\"xY061001X\")\n",
    "#board.config_board(\"xU064001X\")\n",
    "#board.config_board(\"xI065001X\")"
   ]
  },
  {
   "cell_type": "code",
   "execution_count": null,
   "id": "483a47aa",
   "metadata": {},
   "outputs": [],
   "source": [
    "#board.config_board(\"A\") # 5min SD Card"
   ]
  },
  {
   "cell_type": "markdown",
   "id": "c61af2b8",
   "metadata": {},
   "source": [
    "### Lead of Detection Settings"
   ]
  },
  {
   "cell_type": "code",
   "execution_count": null,
   "id": "c34b5561",
   "metadata": {},
   "outputs": [],
   "source": [
    "# z (Channel, PChan, NChan) Z\n",
    "# 6nA at 31.5Hz\n",
    "# https://docs.openbci.com/Cyton/CytonSDK/#leadoff-impedance-commands\n",
    "\n",
    "board.config_board(\"z110Z\")\n",
    "#board.config_board(\"z210Z\")\n",
    "#board.config_board(\"z310Z\")\n",
    "#board.config_board(\"z410Z\")\n",
    "#board.config_board(\"z510Z\")\n",
    "#board.config_board(\"z610Z\")\n",
    "#board.config_board(\"z710Z\")\n",
    "#board.config_board(\"z810Z\")\n",
    "#board.config_board(\"zQ10Z\")\n",
    "#board.config_board(\"zW10Z\")\n",
    "#board.config_board(\"zE10Z\")\n",
    "#board.config_board(\"zR10Z\")\n",
    "#board.config_board(\"zT10Z\")\n",
    "#board.config_board(\"zY10Z\")\n",
    "#board.config_board(\"zU10Z\")\n",
    "#board.config_board(\"zI10Z\")"
   ]
  },
  {
   "cell_type": "markdown",
   "id": "b2fc26d8-3afe-4afa-af2c-39ce268ad35d",
   "metadata": {
    "tags": []
   },
   "source": [
    "## Start Streaming Data"
   ]
  },
  {
   "cell_type": "markdown",
   "id": "c777000e-f9be-4d2e-b6e9-d6b2f6cdad48",
   "metadata": {},
   "source": [
    "### Configure Stream "
   ]
  },
  {
   "cell_type": "code",
   "execution_count": null,
   "id": "b490f5a0-b417-4834-86c7-294872cdba93",
   "metadata": {},
   "outputs": [],
   "source": [
    "# start stream\n",
    "board.start_stream(450000) # 450,000 Max\n",
    "time.sleep(1)\n",
    "\n",
    "start_time = local_clock()\n",
    "sent_samples = 0\n",
    "#queue = Queue(maxsize = 5*srate)\n",
    "queue = Queue(maxsize = 100000) # this is the max queue size. If it exceeds this, pause the loop\n",
    "#queue.cancel_join_thread()"
   ]
  },
  {
   "cell_type": "markdown",
   "id": "726c76bd-7eda-453f-a348-70aef6f4aaa6",
   "metadata": {},
   "source": [
    "### Stream to LSL"
   ]
  },
  {
   "cell_type": "code",
   "execution_count": null,
   "id": "1a816b5f-40bb-443d-b53f-b8e2da9fb65e",
   "metadata": {},
   "outputs": [],
   "source": [
    "# read data with brainflow and send it via LSL\n",
    "print(\"Now sending data...\")\n",
    "count = 0;\n",
    "first = True\n",
    "while True:\n",
    "    data = board.get_board_data()[chans]\n",
    "    print(data)\n",
    "    if first:\n",
    "        # Unchain Mode Set\n",
    "        board.config_board(\"P\");\n",
    "        first = False;\n",
    "    if data.size == 0:\n",
    "        count = count + 1;\n",
    "    else:\n",
    "        count = 0;    \n",
    "    if count == 10:\n",
    "        print(\"Board disconnected\");\n",
    "        break;\n",
    "    for i in range(len(data[0])):\n",
    "        queue.put(data[:,i].tolist())\n",
    "    elapsed_time = local_clock() - start_time\n",
    "    required_samples = int(srate * elapsed_time) - sent_samples\n",
    "    if required_samples > 0 and queue.qsize() >= required_samples:    \n",
    "        mychunk = []\n",
    "        for i in range(required_samples):\n",
    "            mychunk.append(queue.get())\n",
    "        stamp = local_clock() - fw_delay \n",
    "        outlet.push_chunk(mychunk)\n",
    "        sent_samples += required_samples\n",
    "    time.sleep(1)"
   ]
  },
  {
   "cell_type": "code",
   "execution_count": null,
   "id": "74bcec89",
   "metadata": {},
   "outputs": [],
   "source": [
    "board.stop_stream();"
   ]
  }
 ],
 "metadata": {
  "kernelspec": {
   "display_name": "Python 3 (ipykernel)",
   "language": "python",
   "name": "python3"
  },
  "language_info": {
   "codemirror_mode": {
    "name": "ipython",
    "version": 3
   },
   "file_extension": ".py",
   "mimetype": "text/x-python",
   "name": "python",
   "nbconvert_exporter": "python",
   "pygments_lexer": "ipython3",
   "version": "3.9.7"
  }
 },
 "nbformat": 4,
 "nbformat_minor": 5
}
