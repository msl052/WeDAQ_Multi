{
 "cells": [
  {
   "cell_type": "markdown",
   "metadata": {},
   "source": [
    "# Python XDF Reader"
   ]
  },
  {
   "cell_type": "markdown",
   "metadata": {},
   "source": [
    "## Initial Steps"
   ]
  },
  {
   "cell_type": "markdown",
   "metadata": {},
   "source": [
    "### Import Libraries"
   ]
  },
  {
   "cell_type": "code",
   "execution_count": null,
   "metadata": {},
   "outputs": [],
   "source": [
    "import os\n",
    "import logging\n",
    "import pyxdf\n",
    "import matplotlib.pyplot as plt\n",
    "from scipy import signal\n",
    "import numpy as np\n",
    "from scipy.fft import fftshift"
   ]
  },
  {
   "cell_type": "markdown",
   "metadata": {},
   "source": [
    "### Import Data from XDF file"
   ]
  },
  {
   "cell_type": "code",
   "execution_count": null,
   "metadata": {},
   "outputs": [],
   "source": [
    "#path = '/Users/admin/Documents/CurrentStudy/sub-P001/ses-S002/eeg'\n",
    "#path = '/Users/admin/Desktop/sub-P001/ses-S001/eeg'\n",
    "#path = '/Users/Min/Documents/CurrentStudy/sub-P001/ses-S001/eeg' # write directory towards xdf file\n",
    "path = '/Users/Min/Documents/CurrentStudy/sub-P001/ses-S001/'\n",
    "#path = '/Users/Min/Documents/CurrentStudy/' # write directory towards xdf file\n",
    "logging.basicConfig(level=logging.DEBUG)  # Use logging.INFO to reduce output.\n",
    "#fname = os.path.abspath(os.path.join(os.path.dirname(path),'eeg', 'StringTest.xdf'))\n",
    "#fname = os.path.abspath(os.path.join(os.path.dirname(path),'Desktop', 'sub-P001_ses-S001_task-T1_run-001_eeg.xdf'))\n",
    "filename = 'sub-P001_ses-S001_task-Default_run-001_eeg.xdf'\n",
    "fname = os.path.abspath(os.path.join(os.path.dirname(path),'eeg', filename))\n",
    "streams, fileheader = pyxdf.load_xdf(fname)\n",
    "\n",
    "print(\"Found {} streams:\".format(len(streams)))\n",
    "for ix, stream in enumerate(streams):\n",
    "    print(\"Stream {}: {} - type {} - uid {} - shape {} at {} Hz (effective {} Hz)\".format(\n",
    "        ix + 1, stream['info']['name'][0],\n",
    "        stream['info']['type'][0],\n",
    "        stream['info']['uid'][0],\n",
    "        (int(stream['info']['channel_count'][0]), len(stream['time_stamps'])),\n",
    "        stream['info']['nominal_srate'][0],\n",
    "        stream['info']['effective_srate'])\n",
    "    )\n",
    "    if any(stream['time_stamps']):\n",
    "        print(\"\\tDuration: {} s\".format(stream['time_stamps'][-1] - stream['time_stamps'][0]))\n",
    "print(\"Done.\")"
   ]
  },
  {
   "cell_type": "code",
   "execution_count": null,
   "metadata": {},
   "outputs": [],
   "source": [
    "stream"
   ]
  },
  {
   "cell_type": "markdown",
   "metadata": {},
   "source": [
    "### Initialize Variables"
   ]
  },
  {
   "cell_type": "code",
   "execution_count": null,
   "metadata": {},
   "outputs": [],
   "source": [
    "select_stream = 0 # select the stream (Please look at this)\n",
    "singledchan = 0 # selected single channel for the single channel plots\n",
    "stream = streams[select_stream] # get selected stream\n",
    "Fs = stream['info']['nominal_srate'] # get the effective sampling rate\n",
    "select_channel = 1 # select one channel. This is for single plots\n",
    "N = int(stream['footer']['info']['sample_count'][0]) # get number of samples\n",
    "channum = int(stream['info']['channel_count'][0]) # get number of channels\n",
    "data_Y = stream['time_series'] # get time series data\n",
    "data_X = stream['time_stamps'] # get time stamp data\n",
    "data_X = (data_X-min(data_X))\n",
    "\n",
    "#Fs = int(Fs[0])\n",
    "Fs = int(float(Fs[0]))\n",
    "print(\"Sampling Rate:\", Fs)"
   ]
  },
  {
   "cell_type": "markdown",
   "metadata": {},
   "source": [
    "### Trim Data "
   ]
  },
  {
   "cell_type": "code",
   "execution_count": null,
   "metadata": {},
   "outputs": [],
   "source": [
    "trimming = False;\n",
    "if trimming: # change to true if you do want to trim data\n",
    "    startidx = 127*Fs; # start idx of trim\n",
    "    endidx = 142*Fs; # end idx of trim\n",
    "    trimrange = list(range(startidx,endidx)) # create list from start and end idx\n",
    "    data_Y = data_Y[trimrange,:] # new data\n",
    "    data_X = data_X[trimrange] # end data"
   ]
  },
  {
   "cell_type": "code",
   "execution_count": null,
   "metadata": {},
   "outputs": [],
   "source": [
    "print(stream['time_stamps'] - min(stream['time_stamps']))"
   ]
  },
  {
   "cell_type": "markdown",
   "metadata": {},
   "source": [
    "## Unfiltered Analysis "
   ]
  },
  {
   "cell_type": "markdown",
   "metadata": {},
   "source": [
    "### Plot Time-Series Unfiltered (All)"
   ]
  },
  {
   "cell_type": "code",
   "execution_count": null,
   "metadata": {},
   "outputs": [],
   "source": [
    "fig, axs = plt.subplots(channum)\n",
    "for i in range(channum):\n",
    "    axs[i].plot(data_X, data_Y[:,i])\n",
    "    #axs[i].set_xlim(1,5)\n",
    "    \n",
    "fig.suptitle('Time-Series Unfiltered', fontsize=20)\n",
    "fig.set_size_inches(18.5, 10.5)\n",
    "fig.savefig('test2png.png',format='jpg')\n",
    "#plt.close(fig)"
   ]
  },
  {
   "cell_type": "markdown",
   "metadata": {},
   "source": [
    "### Plot Time-Series Unfiltered (Single)"
   ]
  },
  {
   "cell_type": "code",
   "execution_count": null,
   "metadata": {},
   "outputs": [],
   "source": [
    "singledchan = 2\n",
    "plt.figure(figsize=(18.5, 10.5))\n",
    "plt.plot(data_X, data_Y[:,singledchan])\n",
    "#plt.xlim((data_X[0],data_X[0]))\n",
    "plt.xlim(10,20)"
   ]
  },
  {
   "cell_type": "markdown",
   "metadata": {},
   "source": [
    "### PSD Unfiltered (All)"
   ]
  },
  {
   "cell_type": "code",
   "execution_count": null,
   "metadata": {},
   "outputs": [],
   "source": [
    "plt.figure(figsize=(20, 9));\n",
    "for i in range(channum):\n",
    "    plt.psd(data_Y[:,i],NFFT=round(N/10),Fs=Fs, label=i);\n",
    "\n",
    "plt.axvline(Fs/4);\n",
    "plt.title('PSD: Power Spectral Density',fontsize=20);\n",
    "plt.xlabel('Frequency (Hz)',fontsize=17);\n",
    "plt.ylabel('Power Spectral Density (dB/Hz)',fontsize=17);\n",
    "plt.tight_layout();\n",
    "#plt.xticks(np.arange(100))\n",
    "plt.xlim((0,Fs/2));\n",
    "plt.legend(loc='upper left')\n",
    "plt.show();"
   ]
  },
  {
   "cell_type": "markdown",
   "metadata": {},
   "source": [
    "### PSD Unfiltered (Single)"
   ]
  },
  {
   "cell_type": "code",
   "execution_count": null,
   "metadata": {},
   "outputs": [],
   "source": [
    "plt.figure(figsize=(20, 9));\n",
    "[Pxx, freqs] = plt.psd(data_Y[:,13],NFFT=round(N/10),Fs=Fs);\n",
    "plt.title('PSD: Power Spectral Density',fontsize=20);\n",
    "plt.xlabel('Frequency (Hz)',fontsize=17);\n",
    "plt.ylabel('Power Spectral Density (dB/Hz)',fontsize=17);\n",
    "plt.tight_layout();\n",
    "#plt.xticks(np.arange(250))\n",
    "plt.xlim((0,250));\n",
    "plt.show();"
   ]
  },
  {
   "cell_type": "markdown",
   "metadata": {},
   "source": [
    "### Spectrogram Unfiltered (Single)"
   ]
  },
  {
   "cell_type": "code",
   "execution_count": null,
   "metadata": {},
   "outputs": [],
   "source": [
    "plt.figure(figsize=(10, 9));\n",
    "freqs, time, Sxx = signal.spectrogram(data_Y[:,singledchan], Fs,return_onesided=False)\n",
    "plt.pcolormesh(time, fftshift(freqs), fftshift(Sxx,axes=0), shading='gouraud')\n",
    "plt.title('Spectrogram Unfiltered',fontsize=20)\n",
    "plt.ylabel('Frequency [Hz]',fontsize=18)\n",
    "plt.xlabel('Time [sec]',fontsize=18)\n",
    "plt.ylim((-100,100))\n",
    "plt.show()"
   ]
  },
  {
   "cell_type": "markdown",
   "metadata": {},
   "source": [
    "## Impedance"
   ]
  },
  {
   "cell_type": "markdown",
   "metadata": {},
   "source": [
    "### Impedance Calculation"
   ]
  },
  {
   "cell_type": "code",
   "execution_count": null,
   "metadata": {},
   "outputs": [],
   "source": [
    "fdata_Y = []\n",
    "b, a = signal.butter(4, [19,21], btype='bandpass', fs=Fs)\n",
    "w, h = signal.freqs(b, a)\n",
    "# Apply Filter\n",
    "for i in range(channum):\n",
    "    fdata_Y.append(signal.filtfilt(b,a,data_Y[:,i]))\n",
    "    \n",
    "plt.figure(figsize=(18.5, 10.5))\n",
    "plt.plot(data_X, fdata_Y[0])\n",
    "plt.xlim([0.001, 0.002])\n",
    "#plt.xlim((data_X[0],data_X[0]))"
   ]
  },
  {
   "cell_type": "markdown",
   "metadata": {},
   "source": [
    "### PSD Filtered for Impedance (All)"
   ]
  },
  {
   "cell_type": "code",
   "execution_count": null,
   "metadata": {},
   "outputs": [],
   "source": [
    "plt.figure(figsize=(10, 9));\n",
    "for i in range(channum):\n",
    "    plt.psd(fdata_Y[i],NFFT=round(N/10),Fs=Fs);\n",
    "\n",
    "plt.title('PSD: Power Spectral Density',fontsize=20);\n",
    "plt.xlabel('Frequency (Hz)',fontsize=17);\n",
    "plt.ylabel('Power Spectral Density (dB/Hz)',fontsize=17);\n",
    "plt.tight_layout();\n",
    "plt.xlim((0,100));\n",
    "plt.show();"
   ]
  },
  {
   "cell_type": "markdown",
   "metadata": {},
   "source": [
    "### Finds Which Channels are Railed"
   ]
  },
  {
   "cell_type": "code",
   "execution_count": null,
   "metadata": {},
   "outputs": [],
   "source": [
    "idx = [i for i,v in enumerate(freqs) if v > 50 and v < 100]\n",
    "for i in range(channum):\n",
    "    [Pxx, freqs] = plt.psd(data_Y[:,i],NFFT=round(N/10),Fs=Fs);\n",
    "    if np.mean(10*np.log10(Pxx[idx])) < -16:\n",
    "        print(i)\n",
    "#print(Pxx)\n",
    "#0,3,5,6,7,8,9,10,11,15"
   ]
  },
  {
   "cell_type": "markdown",
   "metadata": {},
   "source": [
    "## Filtered"
   ]
  },
  {
   "cell_type": "markdown",
   "metadata": {},
   "source": [
    "### Apply Filter"
   ]
  },
  {
   "cell_type": "code",
   "execution_count": null,
   "metadata": {},
   "outputs": [],
   "source": [
    "# Initialize Variables\n",
    "F0 = 60.0  # Frequency to be removed from signal (Hz)\n",
    "Q = 30.0  # Quality factor\n",
    "data_Y = stream['time_series'] # get time series data\n",
    "data_X = stream['time_stamps'] # get time stamp data\n",
    "data_X = (data_X-min(data_X))\n",
    "\n",
    "# Design notch filter\n",
    "b, a = signal.iirnotch(F0, Q, Fs)\n",
    "fdata_Y = []\n",
    "\n",
    "# Apply Filter\n",
    "for i in range(channum):\n",
    "    fdata_Y.append(signal.filtfilt(b,a,data_Y[:,i]))\n",
    "\n",
    "fdata_Y = np.array(fdata_Y)"
   ]
  },
  {
   "cell_type": "markdown",
   "metadata": {},
   "source": [
    "### Plot Time-Series Filtered (All)"
   ]
  },
  {
   "cell_type": "code",
   "execution_count": null,
   "metadata": {},
   "outputs": [],
   "source": [
    "fig, axs = plt.subplots(channum) # define subplots\n",
    "\n",
    "for i in range(channum):\n",
    "    axs[i].plot(new_data_X, new_fdata_Y[i])\n",
    "    \n",
    "fig.suptitle('Time-Series Filtered', fontsize=20)\n",
    "fig.set_size_inches(18.5, 10.5)\n",
    "fig.savefig('test2png.png',format='jpg')\n",
    "#plt.close(fig)"
   ]
  },
  {
   "cell_type": "markdown",
   "metadata": {},
   "source": [
    "### PSD Filtered (All)"
   ]
  },
  {
   "cell_type": "code",
   "execution_count": null,
   "metadata": {},
   "outputs": [],
   "source": [
    "plt.figure(figsize=(10, 9));\n",
    "for i in range(channum):\n",
    "    plt.psd(new_fdata_Y[i],NFFT=round(N/10),Fs=Fs);\n",
    "\n",
    "plt.title('PSD: Power Spectral Density',fontsize=20);\n",
    "plt.xlabel('Frequency (Hz)',fontsize=17);\n",
    "plt.ylabel('Power Spectral Density (dB/Hz)',fontsize=17);\n",
    "plt.tight_layout();\n",
    "plt.xlim((0,100));\n",
    "plt.show();"
   ]
  },
  {
   "cell_type": "markdown",
   "metadata": {},
   "source": [
    "### Spectrogram Filtered (Single)"
   ]
  },
  {
   "cell_type": "code",
   "execution_count": null,
   "metadata": {},
   "outputs": [],
   "source": [
    "plt.figure(figsize=(10, 9));\n",
    "freqs, time, Sxx = signal.spectrogram(new_fdata_Y[singledchan], Fs,return_onesided=False)\n",
    "plt.pcolormesh(time, fftshift(freqs), fftshift(Sxx,axes=0), shading='gouraud')\n",
    "plt.title('Spectrogram Unfiltered',fontsize=20)\n",
    "plt.ylabel('Frequency [Hz]',fontsize=18)\n",
    "plt.xlabel('Time [sec]',fontsize=18)\n",
    "plt.ylim((-100,100))\n",
    "plt.show()"
   ]
  }
 ],
 "metadata": {
  "kernelspec": {
   "display_name": "Python 3 (ipykernel)",
   "language": "python",
   "name": "python3"
  },
  "language_info": {
   "codemirror_mode": {
    "name": "ipython",
    "version": 3
   },
   "file_extension": ".py",
   "mimetype": "text/x-python",
   "name": "python",
   "nbconvert_exporter": "python",
   "pygments_lexer": "ipython3",
   "version": "3.9.15"
  }
 },
 "nbformat": 4,
 "nbformat_minor": 4
}
