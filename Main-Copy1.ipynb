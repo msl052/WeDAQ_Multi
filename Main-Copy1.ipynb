{
 "cells": [
  {
   "cell_type": "markdown",
   "id": "ff7d27a8-8ae1-4467-b909-232c78a9a8fc",
   "metadata": {},
   "source": [
    "## Import Libraries"
   ]
  },
  {
   "cell_type": "code",
   "execution_count": null,
   "id": "cf166233-5717-433f-9c5f-1100d474d5e0",
   "metadata": {
    "scrolled": true
   },
   "outputs": [],
   "source": [
    "import argparse\n",
    "import time\n",
    "import numpy as np\n",
    "\n",
    "from multiprocessing import Queue, Pipe\n",
    "\n",
    "import brainflow\n",
    "from brainflow.board_shim import BoardShim, BrainFlowInputParams, BoardIds\n",
    "from brainflow.data_filter import DataFilter, FilterTypes, AggOperations\n",
    "\n",
    "from pylsl import StreamInfo, StreamOutlet, local_clock"
   ]
  },
  {
   "cell_type": "markdown",
   "id": "8de9e8e9-44b2-4605-b265-c902a9c45073",
   "metadata": {},
   "source": [
    "##  Configure Board Parameters with Brainflow"
   ]
  },
  {
   "cell_type": "code",
   "execution_count": null,
   "id": "ab2e4e78-bcf9-4b4d-94cc-ab773685a176",
   "metadata": {
    "scrolled": true
   },
   "outputs": [],
   "source": [
    "params = BrainFlowInputParams();\n",
    "#params.ip_address = \"192.168.4.1\"; # for direct connect\n",
    "params.ip_address = \"192.168.0.102\";\n",
    "params.ip_port = 6677;\n",
    "params.timeout = 0;\n",
    "board_id = BoardIds.CYTON_DAISY_WIFI_BOARD.value;\n",
    "board = BoardShim(board_id,params);\n",
    "print(\"Sampling Rate: \", board.get_sampling_rate(board_id));\n",
    "print(\"Device name: \", board.get_device_name(board_id));\n",
    "#print(board.get_sampling_rate(BoardIds.CYTON_DAISY_WIFI_BOARD.value));\n",
    "#print(\"Is prepared: \", board.is_prepared());"
   ]
  },
  {
   "cell_type": "code",
   "execution_count": null,
   "id": "734ed49c",
   "metadata": {},
   "outputs": [],
   "source": [
    "board.prepare_session() # this default sets sampling rate to be 1000Hz. See what else it default sets"
   ]
  },
  {
   "cell_type": "markdown",
   "id": "3decbc53-2fd4-4ff5-b572-0de7225778b7",
   "metadata": {
    "tags": []
   },
   "source": [
    "## LSL Initialization "
   ]
  },
  {
   "cell_type": "code",
   "execution_count": null,
   "id": "61a97799-f9c2-4632-b9ad-63bc9ff5e878",
   "metadata": {
    "scrolled": true
   },
   "outputs": [],
   "source": [
    "# LSL initialization\n",
    "def channel_select(board, board_id, data_type): \n",
    "    switcher = {\n",
    "        'EXG': board.get_exg_channels(board_id),\n",
    "        # can add more\n",
    "    }\n",
    " \n",
    "    return switcher.get(data_type, \"error\")\n",
    "\n",
    "eeg_channels = BoardShim.get_eeg_channels(board_id) # index of eeg channels\n",
    "accel_channels = BoardShim.get_accel_channels(board_id) # index of accel channels\n",
    "time_channel = BoardShim.get_timestamp_channel(board_id) # index of timestamp channel (only 1)\n",
    "con = np.concatenate((eeg_channels,accel_channels,[time_channel])) # combine the desire channels to send to LSL\n",
    "\n",
    "#con = [1,2,3,16,17,18,30,31] # Test\n",
    "\n",
    "n_channels = len(con) # total number of channels\n",
    "srate = board.get_sampling_rate(board_id) # get sampling rate of the board currently\n",
    "\n",
    "board.config_board(\"~6\"); # Set the sampling rate to 1000 Hz\n",
    "srate = 250;\n",
    "\n",
    "\n",
    "\n",
    "print(con)\n",
    "print(\"Number of Channels:\", n_channels)\n",
    "print(\"Sampling Rate:\", srate)\n",
    "\n",
    "# Create LSL Stream Info\n",
    "info = StreamInfo('OpenBCIEEG1', 'EXG', n_channels, srate, 'double64', 'OpenBCItestEEG1')\n",
    "chans = channel_select(board, board.board_id, 'EXG')\n",
    "outlet = StreamOutlet(info)\n",
    "\n",
    "# Initialization for data stream\n",
    "fw_delay = 0\n",
    "SCALE_FACTOR_EEG = (4500000)/24/(2**23-1) #uV/count\n",
    "SCALE_FACTOR_AUX = 0.002 / (2**4) "
   ]
  },
  {
   "cell_type": "markdown",
   "id": "afed66a4-7475-4114-baa7-81568e9ab2a3",
   "metadata": {},
   "source": [
    "## Board Settings"
   ]
  },
  {
   "cell_type": "markdown",
   "id": "0db9a658",
   "metadata": {},
   "source": [
    "### Sampling Rate"
   ]
  },
  {
   "cell_type": "code",
   "execution_count": null,
   "id": "c05fea37",
   "metadata": {},
   "outputs": [],
   "source": [
    "#print(\"Sampling Rate: \", board.get_sampling_rate(BoardIds.CYTON_DAISY_WIFI_BOARD.value));"
   ]
  },
  {
   "cell_type": "markdown",
   "id": "2eecfb98-5211-49b0-856c-25e6ae7c859e",
   "metadata": {
    "tags": []
   },
   "source": [
    "### Channel Settings"
   ]
  },
  {
   "cell_type": "markdown",
   "id": "47e69fee",
   "metadata": {},
   "source": [
    "# send commands to the board for every channel. Cyton has 8 Channels. Here, we turn off every channel except for 1 and 8.\n",
    "# This is here for testing purposes.\n",
    "#board.config_board(\"x1000110X\") #Lower the gain to 1x on channel 1\n",
    "#board.config_board(\"x1061000X\")\n",
    "#board.config_board(\"x2161000X\")\n",
    "#board.config_board(\"x3161000X\")\n",
    "#board.config_board(\"x4161000X\")\n",
    "#board.config_board(\"x5161000X\")\n",
    "#board.config_board(\"x6161000X\")\n",
    "#board.config_board(\"x7161000X\")\n",
    "#board.config_board(\"x8060110X\")\n",
    "#board.config_board(\"d\");\n",
    "#board.config_board(\"j\");\n",
    "\n",
    "\n",
    "# Example of channel off: board.config_board(\"x~161000X\")\n",
    "\n",
    "# Default\n",
    "board.config_board(\"x1060001X\")\n",
    "board.config_board(\"x2060001X\")\n",
    "board.config_board(\"x3060001X\")\n",
    "board.config_board(\"x4060001X\")\n",
    "board.config_board(\"x5060001X\")\n",
    "board.config_board(\"x6060001X\")\n",
    "board.config_board(\"x7060001X\")\n",
    "board.config_board(\"x8060001X\")\n",
    "board.config_board(\"xQ060001X\")\n",
    "board.config_board(\"xW060001X\")\n",
    "board.config_board(\"xE060001X\")\n",
    "board.config_board(\"xR060001X\")\n",
    "board.config_board(\"xT060001X\")\n",
    "board.config_board(\"xY060001X\")\n",
    "board.config_board(\"xU060001X\")\n",
    "board.config_board(\"xI060001X\")\n"
   ]
  },
  {
   "cell_type": "markdown",
   "id": "9c3c7fdf",
   "metadata": {},
   "source": [
    "# Single Channel\n",
    "board.config_board(\"x1060001X\")\n",
    "board.config_board(\"x2161000X\")\n",
    "board.config_board(\"x3161000X\")\n",
    "board.config_board(\"x4161000X\")\n",
    "board.config_board(\"x5161000X\")\n",
    "board.config_board(\"x6161000X\")\n",
    "board.config_board(\"x7161000X\")\n",
    "board.config_board(\"x8161000X\")\n",
    "board.config_board(\"xQ161000X\")\n",
    "board.config_board(\"xW161000X\")\n",
    "board.config_board(\"xE161000X\")\n",
    "board.config_board(\"xR161000X\")\n",
    "board.config_board(\"xT161000X\")\n",
    "board.config_board(\"xY161000X\")\n",
    "board.config_board(\"xU161000X\")\n",
    "board.config_board(\"xI161000X\")"
   ]
  },
  {
   "cell_type": "code",
   "execution_count": null,
   "id": "3039b9e2",
   "metadata": {
    "scrolled": true
   },
   "outputs": [],
   "source": [
    "# Set Channels to Test Signal, Temp, Short, Regular\n",
    "\n",
    "#board.config_board(\"x1060001X\")\n",
    "#board.config_board(\"x2061001X\")\n",
    "#board.config_board(\"x3064001X\")\n",
    "#board.config_board(\"x4065001X\")\n",
    "#board.config_board(\"x5060001X\")\n",
    "#board.config_board(\"x6061001X\")\n",
    "#board.config_board(\"x7064001X\")\n",
    "#board.config_board(\"x8065001X\")\n",
    "#board.config_board(\"xQ060001X\")\n",
    "#board.config_board(\"xW061001X\")\n",
    "#board.config_board(\"xE064001X\")\n",
    "#board.config_board(\"xR065001X\")\n",
    "#board.config_board(\"xT060001X\")\n",
    "#board.config_board(\"xY061001X\")\n",
    "#board.config_board(\"xU064001X\")\n",
    "#board.config_board(\"xI065001X\")"
   ]
  },
  {
   "cell_type": "markdown",
   "id": "16c81d2e-29f6-4d29-85d6-d76e7194f7ea",
   "metadata": {
    "tags": []
   },
   "source": [
    "### Lead of Detection Settings "
   ]
  },
  {
   "cell_type": "code",
   "execution_count": null,
   "id": "577bb4db",
   "metadata": {
    "scrolled": true
   },
   "outputs": [],
   "source": [
    "# z (Channel, PChan, NChan) Z\n",
    "# 6nA at 31.5Hz\n",
    "# https://docs.openbci.com/Cyton/CytonSDK/#leadoff-impedance-commands\n",
    "\n",
    "board.config_board(\"z110Z\")\n",
    "#board.config_board(\"z210Z\")\n",
    "#board.config_board(\"z310Z\")\n",
    "#board.config_board(\"z410Z\")\n",
    "#board.config_board(\"z510Z\")\n",
    "#board.config_board(\"z610Z\")\n",
    "#board.config_board(\"z710Z\")\n",
    "#board.config_board(\"z810Z\")\n",
    "#board.config_board(\"zQ10Z\")\n",
    "#board.config_board(\"zW10Z\")\n",
    "#board.config_board(\"zE10Z\")\n",
    "#board.config_board(\"zR10Z\")\n",
    "#board.config_board(\"zT10Z\")\n",
    "#board.config_board(\"zY10Z\")\n",
    "board.config_board(\"zU10Z\")\n",
    "board.config_board(\"zI10Z\")"
   ]
  },
  {
   "cell_type": "code",
   "execution_count": null,
   "id": "483a47aa",
   "metadata": {
    "scrolled": true
   },
   "outputs": [],
   "source": [
    "#board.config_board(\"A\") # 5min SD Card\n",
    "#board.config_board(\"/0\") # accel on"
   ]
  },
  {
   "cell_type": "markdown",
   "id": "b2fc26d8-3afe-4afa-af2c-39ce268ad35d",
   "metadata": {
    "tags": []
   },
   "source": [
    "## Start Streaming Data"
   ]
  },
  {
   "cell_type": "markdown",
   "id": "c777000e-f9be-4d2e-b6e9-d6b2f6cdad48",
   "metadata": {},
   "source": [
    "### Configure Stream "
   ]
  },
  {
   "cell_type": "code",
   "execution_count": null,
   "id": "b490f5a0-b417-4834-86c7-294872cdba93",
   "metadata": {
    "scrolled": true
   },
   "outputs": [],
   "source": [
    "# start stream\n",
    "board.start_stream(450000) # 450,000 Max\n",
    "time.sleep(1)\n",
    "\n",
    "start_time = local_clock()\n",
    "sent_samples = 0\n",
    "queue = Queue(maxsize = 6*srate)\n",
    "#queue = Queue(maxsize = 100000) # this is the max queue size. If it exceeds this, pause the loop\n",
    "#queue.cancel_join_thread()"
   ]
  },
  {
   "cell_type": "markdown",
   "id": "726c76bd-7eda-453f-a348-70aef6f4aaa6",
   "metadata": {},
   "source": [
    "### Stream to LSL"
   ]
  },
  {
   "cell_type": "code",
   "execution_count": null,
   "id": "1a816b5f-40bb-443d-b53f-b8e2da9fb65e",
   "metadata": {
    "scrolled": true
   },
   "outputs": [],
   "source": [
    "# read data with brainflow and send it via LSL\n",
    "print(\"Now sending data...\")\n",
    "#con = [1,20,21,22,23,24,25,26,27,28,29,30]\n",
    "#con = [1,2,3,16,17,18,30,31]\n",
    "board.config_board(\"P\");\n",
    "while True:\n",
    "    data = board.get_board_data()[con];\n",
    "    #data = board.get_board_data();\n",
    "    #print(data)\n",
    "    #data[eeg_channels] = data[eeg_channels]*SCALE_FACTOR_EEG;\n",
    "    #data[accel_channels] = data[accel_channels]*SCALE_FACTOR_AUX;\n",
    "    for i in range(len(data[0])):\n",
    "        queue.put(data[:,i].tolist())\n",
    "    elapsed_time = local_clock() - start_time\n",
    "    required_samples = int(srate * elapsed_time) - sent_samples\n",
    "    if required_samples > 0 and queue.qsize() >= required_samples: \n",
    "        mychunk = []\n",
    "        for i in range(required_samples):\n",
    "            mychunk.append(queue.get())\n",
    "        stamp = local_clock() - fw_delay \n",
    "        outlet.push_chunk(mychunk)\n",
    "        sent_samples += required_samples\n",
    "    #time.sleep(1)"
   ]
  },
  {
   "cell_type": "code",
   "execution_count": null,
   "id": "74bcec89",
   "metadata": {
    "scrolled": true
   },
   "outputs": [],
   "source": [
    "board.stop_stream();"
   ]
  },
  {
   "cell_type": "code",
   "execution_count": null,
   "id": "b49075ad",
   "metadata": {},
   "outputs": [],
   "source": []
  }
 ],
 "metadata": {
  "kernelspec": {
   "display_name": "Python 3 (ipykernel)",
   "language": "python",
   "name": "python3"
  },
  "language_info": {
   "codemirror_mode": {
    "name": "ipython",
    "version": 3
   },
   "file_extension": ".py",
   "mimetype": "text/x-python",
   "name": "python",
   "nbconvert_exporter": "python",
   "pygments_lexer": "ipython3",
   "version": "3.9.7"
  }
 },
 "nbformat": 4,
 "nbformat_minor": 5
}
