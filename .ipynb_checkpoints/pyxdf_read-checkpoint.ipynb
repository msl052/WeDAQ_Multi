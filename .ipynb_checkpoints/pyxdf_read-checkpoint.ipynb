{
 "cells": [
  {
   "cell_type": "code",
   "execution_count": null,
   "metadata": {},
   "outputs": [],
   "source": [
    "import os\n",
    "import logging\n",
    "import pyxdf\n",
    "import matplotlib.pyplot as plt\n",
    "from scipy import signal\n",
    "import numpy as np\n",
    "from scipy.fft import fftshift\n",
    "\n",
    "#path = '/Users/admin/Documents/CurrentStudy/sub-P001/ses-S002/eeg'\n",
    "#path = '/Users/admin/Desktop/sub-P001/ses-S001/eeg'\n",
    "path = '/Users/minle/Documents/CurrentStudy/sub-P001/ses-S001/eeg' # write directory towards xdf file\n",
    "logging.basicConfig(level=logging.DEBUG)  # Use logging.INFO to reduce output.\n",
    "#fname = os.path.abspath(os.path.join(os.path.dirname(path),'eeg', 'StringTest.xdf'))\n",
    "#fname = os.path.abspath(os.path.join(os.path.dirname(path),'Desktop', 'sub-P001_ses-S001_task-T1_run-001_eeg.xdf'))\n",
    "filename = 'sub-P001_ses-S001_task-Default_run-001_eeg.xdf'\n",
    "fname = os.path.abspath(os.path.join(os.path.dirname(path),'eeg', filename))\n",
    "streams, fileheader = pyxdf.load_xdf(fname)\n",
    "\n",
    "print(\"Found {} streams:\".format(len(streams)))\n",
    "for ix, stream in enumerate(streams):\n",
    "    print(\"Stream {}: {} - type {} - uid {} - shape {} at {} Hz (effective {} Hz)\".format(\n",
    "        ix + 1, stream['info']['name'][0],\n",
    "        stream['info']['type'][0],\n",
    "        stream['info']['uid'][0],\n",
    "        (int(stream['info']['channel_count'][0]), len(stream['time_stamps'])),\n",
    "        stream['info']['nominal_srate'][0],\n",
    "        stream['info']['effective_srate'])\n",
    "    )\n",
    "    if any(stream['time_stamps']):\n",
    "        print(\"\\tDuration: {} s\".format(stream['time_stamps'][-1] - stream['time_stamps'][0]))\n",
    "print(\"Done.\")"
   ]
  },
  {
   "cell_type": "code",
   "execution_count": null,
   "metadata": {},
   "outputs": [],
   "source": [
    "## Initialize Variables ##\n",
    "select_stream = 0 # select the stream (Please look at this)\n",
    "stream = streams[select_stream] # get selected stream\n",
    "Fs = stream['info']['effective_srate'] # get the effective sampling rate\n",
    "select_channel = 1 # select one channel. This is for single plots\n",
    "N = int(stream['footer']['info']['sample_count'][0]) # get number of samples\n",
    "channum = int(stream['info']['channel_count'][0]) # get number of channels\n",
    "data_Y = stream['time_series'] # get time series data\n",
    "data_X = stream['time_stamps'] # get time stamp data\n",
    "#path_save = '/Users/admin/Desktop/LSL_Data/sub-P001/ses-S001/eeg'\n",
    "\n",
    "Fs = round(Fs)\n",
    "print(Fs)\n",
    "\n",
    "## Trim Data ##\n",
    "if False: # change to true if you do want to trim data\n",
    "    startidx = 0; # start idx of trim\n",
    "    endidx = 10000; # end idx of trim\n",
    "    trimrange = list(range(startidx,endidx)) # create list from start and end idx\n",
    "    data_Y = data_Y[trimrange,:] # new data\n",
    "    data_X = data_X[trimrange] # end data"
   ]
  },
  {
   "cell_type": "code",
   "execution_count": null,
   "metadata": {},
   "outputs": [],
   "source": [
    "## Plot Time-Series Unfiltered ##\n",
    "fig, axs = plt.subplots(channum)\n",
    "for i in range(channum):\n",
    "    axs[i].plot(data_X, data_Y[:,i])\n",
    "    \n",
    "fig.suptitle('Time-Series Unfiltered', fontsize=20)\n",
    "fig.set_size_inches(18.5, 10.5)\n",
    "fig.savefig('test2png.png',format='jpg')\n",
    "#plt.close(fig)"
   ]
  },
  {
   "cell_type": "code",
   "execution_count": null,
   "metadata": {},
   "outputs": [],
   "source": [
    "## PSD Unfiltered ##\n",
    "plt.figure(figsize=(10, 9));\n",
    "for i in range(channum):\n",
    "    plt.psd(data_Y[:,i],NFFT=round(N/10),Fs=Fs);\n",
    "\n",
    "plt.title('PSD: Power Spectral Density',fontsize=20);\n",
    "plt.xlabel('Frequency (Hz)',fontsize=17);\n",
    "plt.ylabel('Power Spectral Density (dB/Hz)',fontsize=17);\n",
    "plt.tight_layout();\n",
    "plt.xlim((0,100));\n",
    "plt.show();"
   ]
  },
  {
   "cell_type": "code",
   "execution_count": null,
   "metadata": {},
   "outputs": [],
   "source": [
    "## Spectrogram Unfiltered ##\n",
    "plt.figure(figsize=(10, 9));\n",
    "freqs, time, Sxx = signal.spectrogram(data_Y[:,1], Fs,return_onesided=False)\n",
    "plt.pcolormesh(time, fftshift(freqs), fftshift(Sxx,axes=0), shading='gouraud')\n",
    "plt.title('Spectrogram Unfiltered',fontsize=20)\n",
    "plt.ylabel('Frequency [Hz]',fontsize=18)\n",
    "plt.xlabel('Time [sec]',fontsize=18)\n",
    "plt.ylim((-100,100))\n",
    "plt.show()"
   ]
  },
  {
   "cell_type": "code",
   "execution_count": null,
   "metadata": {},
   "outputs": [],
   "source": [
    "## Apply Filter ##\n",
    "\n",
    "# Initialize Variables\n",
    "F0 = 60.0  # Frequency to be removed from signal (Hz)\n",
    "Q = 30.0  # Quality factor\n",
    "\n",
    "# Design notch filter\n",
    "b, a = signal.iirnotch(F0, Q, Fs)\n",
    "fdata_Y = [] \n",
    "\n",
    "# Apply Filter\n",
    "for i in range(channum):\n",
    "    fdata_Y.append(signal.filtfilt(b,a,data_Y[:,i]))"
   ]
  },
  {
   "cell_type": "code",
   "execution_count": null,
   "metadata": {},
   "outputs": [],
   "source": [
    "## Plot Time-Series Filtered ##\n",
    "fig, axs = plt.subplots(channum) # define subplots\n",
    "\n",
    "for i in range(channum):\n",
    "    axs[i].plot(data_X, fdata_Y[i])\n",
    "    \n",
    "fig.suptitle('Time-Series Filtered', fontsize=20)\n",
    "fig.set_size_inches(18.5, 10.5)\n",
    "fig.savefig('test2png.png',format='jpg')\n",
    "#plt.close(fig)"
   ]
  },
  {
   "cell_type": "code",
   "execution_count": null,
   "metadata": {},
   "outputs": [],
   "source": [
    "## Spectrogram Filtered ##\n",
    "plt.figure(figsize=(10, 9));\n",
    "freqs, time, Sxx = signal.spectrogram(fdata_Y[1], Fs,return_onesided=False)\n",
    "plt.pcolormesh(time, fftshift(freqs), fftshift(Sxx,axes=0), shading='gouraud')\n",
    "plt.title('Spectrogram Unfiltered',fontsize=20)\n",
    "plt.ylabel('Frequency [Hz]',fontsize=18)\n",
    "plt.xlabel('Time [sec]',fontsize=18)\n",
    "plt.ylim((-100,100))\n",
    "plt.show()"
   ]
  },
  {
   "cell_type": "code",
   "execution_count": null,
   "metadata": {},
   "outputs": [],
   "source": [
    "# PSD Filtered ##\n",
    "plt.figure(figsize=(10, 9));\n",
    "for i in range(channum):\n",
    "    plt.psd(fdata_Y[i],NFFT=round(N/10),Fs=Fs);\n",
    "\n",
    "plt.title('PSD: Power Spectral Density',fontsize=20);\n",
    "plt.xlabel('Frequency (Hz)',fontsize=17);\n",
    "plt.ylabel('Power Spectral Density (dB/Hz)',fontsize=17);\n",
    "plt.tight_layout();\n",
    "plt.xlim((0,100));\n",
    "plt.show();"
   ]
  }
 ],
 "metadata": {
  "kernelspec": {
   "display_name": "Python 3 (ipykernel)",
   "language": "python",
   "name": "python3"
  },
  "language_info": {
   "codemirror_mode": {
    "name": "ipython",
    "version": 3
   },
   "file_extension": ".py",
   "mimetype": "text/x-python",
   "name": "python",
   "nbconvert_exporter": "python",
   "pygments_lexer": "ipython3",
   "version": "3.9.7"
  }
 },
 "nbformat": 4,
 "nbformat_minor": 4
}
