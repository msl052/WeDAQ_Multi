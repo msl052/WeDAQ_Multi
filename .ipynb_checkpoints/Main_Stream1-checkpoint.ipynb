{
 "cells": [
  {
   "cell_type": "markdown",
   "id": "ff7d27a8-8ae1-4467-b909-232c78a9a8fc",
   "metadata": {},
   "source": [
    "## Import Libraries"
   ]
  },
  {
   "cell_type": "code",
   "execution_count": null,
   "id": "cf166233-5717-433f-9c5f-1100d474d5e0",
   "metadata": {
    "scrolled": true
   },
   "outputs": [],
   "source": [
    "import argparse\n",
    "import time\n",
    "import numpy as np\n",
    "from multiprocessing import Queue, Pipe\n",
    "import brainflow\n",
    "from brainflow.board_shim import BoardShim, BrainFlowInputParams, BoardIds\n",
    "from brainflow.data_filter import DataFilter, FilterTypes, AggOperations\n",
    "from pylsl import StreamInfo, StreamOutlet, local_clock"
   ]
  },
  {
   "cell_type": "markdown",
   "id": "8de9e8e9-44b2-4605-b265-c902a9c45073",
   "metadata": {},
   "source": [
    "##  Configure Board Parameters with Brainflow"
   ]
  },
  {
   "cell_type": "code",
   "execution_count": null,
   "id": "ab2e4e78-bcf9-4b4d-94cc-ab773685a176",
   "metadata": {
    "scrolled": true
   },
   "outputs": [],
   "source": [
    "params = BrainFlowInputParams();\n",
    "#params.ip_address = \"192.168.4.1\"; # for direct connect\n",
    "params.ip_address = \"192.168.0.101\";\n",
    "params.ip_port = 6677;\n",
    "params.timeout = 0;\n",
    "board_id = BoardIds.CYTON_DAISY_WIFI_BOARD.value;\n",
    "board = BoardShim(board_id,params);\n",
    "print(\"Sampling Rate: \", board.get_sampling_rate(board_id));\n",
    "print(\"Device name: \", board.get_device_name(board_id));"
   ]
  },
  {
   "cell_type": "code",
   "execution_count": null,
   "id": "734ed49c",
   "metadata": {},
   "outputs": [],
   "source": [
    "board.prepare_session()\n",
    "board.config_board(\"~5\") # set the sampling rate back to 500Hz\n",
    "srate = 500"
   ]
  },
  {
   "cell_type": "markdown",
   "id": "3decbc53-2fd4-4ff5-b572-0de7225778b7",
   "metadata": {
    "tags": []
   },
   "source": [
    "## LSL Initialization "
   ]
  },
  {
   "cell_type": "code",
   "execution_count": null,
   "id": "61a97799-f9c2-4632-b9ad-63bc9ff5e878",
   "metadata": {
    "scrolled": true
   },
   "outputs": [],
   "source": [
    "# LSL initialization\n",
    "eeg_channels = BoardShim.get_eeg_channels(board_id) # get eeg channel index\n",
    "accel_channels = BoardShim.get_accel_channels(board_id) # get accel channel index\n",
    "res = np.append(eeg_channels, accel_channels)\n",
    "n_channels = len(res) # get the eeg channel count\n",
    "\n",
    "# Create LSL Stream\n",
    "info = StreamInfo('WeDAQ1', 'EXG', n_channels, srate, 'float32', 'WeDAQtest1')\n",
    "outlet = StreamOutlet(info)"
   ]
  },
  {
   "cell_type": "markdown",
   "id": "afed66a4-7475-4114-baa7-81568e9ab2a3",
   "metadata": {},
   "source": [
    "## Board Settings"
   ]
  },
  {
   "cell_type": "markdown",
   "id": "2eecfb98-5211-49b0-856c-25e6ae7c859e",
   "metadata": {
    "tags": []
   },
   "source": [
    "### Channel Settings"
   ]
  },
  {
   "cell_type": "markdown",
   "id": "997c3d63",
   "metadata": {},
   "source": [
    "# Single Channel\n",
    "board.config_board(\"x1060001X\")\n",
    "board.config_board(\"x2161000X\")\n",
    "board.config_board(\"x3161000X\")\n",
    "board.config_board(\"x4161000X\")\n",
    "board.config_board(\"x5161000X\")\n",
    "board.config_board(\"x6161000X\")\n",
    "board.config_board(\"x7161000X\")\n",
    "board.config_board(\"x8161000X\")\n",
    "board.config_board(\"xQ161000X\")\n",
    "board.config_board(\"xW161000X\")\n",
    "board.config_board(\"xE161000X\")\n",
    "board.config_board(\"xR161000X\")\n",
    "board.config_board(\"xT161000X\")\n",
    "board.config_board(\"xY161000X\")\n",
    "board.config_board(\"xU161000X\")\n",
    "board.config_board(\"xI161000X\")"
   ]
  },
  {
   "cell_type": "markdown",
   "id": "b2fc26d8-3afe-4afa-af2c-39ce268ad35d",
   "metadata": {
    "tags": []
   },
   "source": [
    "## Start Streaming Data"
   ]
  },
  {
   "cell_type": "markdown",
   "id": "c777000e-f9be-4d2e-b6e9-d6b2f6cdad48",
   "metadata": {},
   "source": [
    "### Configure Stream "
   ]
  },
  {
   "cell_type": "code",
   "execution_count": null,
   "id": "b490f5a0-b417-4834-86c7-294872cdba93",
   "metadata": {
    "scrolled": true
   },
   "outputs": [],
   "source": [
    "# start stream\n",
    "board.start_stream() # 450,000 Max\n",
    "time.sleep(1)"
   ]
  },
  {
   "cell_type": "markdown",
   "id": "726c76bd-7eda-453f-a348-70aef6f4aaa6",
   "metadata": {},
   "source": [
    "### Stream to LSL"
   ]
  },
  {
   "cell_type": "code",
   "execution_count": null,
   "id": "1a816b5f-40bb-443d-b53f-b8e2da9fb65e",
   "metadata": {
    "scrolled": true
   },
   "outputs": [],
   "source": [
    "SCALE_FACTOR_EEG = (4500000)/24/(2**23-1) #uV/count #You can use this in the signal processing after LSL\n",
    "SCALE_FACTOR_AUX = 0.002 / (2**4) \n",
    "\n",
    "# read data with brainflow and send it via LSL\n",
    "print(\"Now sending data...\")\n",
    "board.config_board(\"P\"); # Unchain Mode Set\n",
    "while True:\n",
    "    data = board.get_board_data()[res]\n",
    "    mychunk = [];\n",
    "    for i in range(len(data[0])):\n",
    "        mychunk.append(data[:,i].tolist())\n",
    "    if len(mychunk) > 0:\n",
    "        outlet.push_chunk(mychunk)\n",
    "    time.sleep(1)"
   ]
  }
 ],
 "metadata": {
  "kernelspec": {
   "display_name": "Python 3 (ipykernel)",
   "language": "python",
   "name": "python3"
  },
  "language_info": {
   "codemirror_mode": {
    "name": "ipython",
    "version": 3
   },
   "file_extension": ".py",
   "mimetype": "text/x-python",
   "name": "python",
   "nbconvert_exporter": "python",
   "pygments_lexer": "ipython3",
   "version": "3.9.15"
  }
 },
 "nbformat": 4,
 "nbformat_minor": 5
}
