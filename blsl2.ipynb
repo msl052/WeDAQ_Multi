{
 "cells": [
  {
   "cell_type": "code",
   "execution_count": 1,
   "id": "cf166233-5717-433f-9c5f-1100d474d5e0",
   "metadata": {},
   "outputs": [],
   "source": [
    "import argparse\n",
    "import time\n",
    "import numpy as np\n",
    "\n",
    "from queue import Queue\n",
    "\n",
    "import brainflow\n",
    "from brainflow.board_shim import BoardShim, BrainFlowInputParams, BoardIds\n",
    "from brainflow.data_filter import DataFilter, FilterTypes, AggOperations\n",
    "\n",
    "from pylsl import StreamInfo, StreamOutlet, local_clock"
   ]
  },
  {
   "cell_type": "code",
   "execution_count": 2,
   "id": "2038a30f-93e5-41cc-8637-c6b389616aa6",
   "metadata": {},
   "outputs": [],
   "source": [
    "def channel_select(board, board_id, data_type): \n",
    "    switcher = { \n",
    "        'EXG': board.get_exg_channels(board_id),\n",
    "        # can add more\n",
    "    } \n",
    " \n",
    "    return switcher.get(data_type, \"error\")"
   ]
  },
  {
   "cell_type": "code",
   "execution_count": 3,
   "id": "ab2e4e78-bcf9-4b4d-94cc-ab773685a176",
   "metadata": {},
   "outputs": [
    {
     "name": "stdout",
     "output_type": "stream",
     "text": [
      "Sampling Rate:  1000\n",
      "Device name:  CytonDaisyWifi\n"
     ]
    }
   ],
   "source": [
    "params = BrainFlowInputParams();\n",
    "#params.ip_address = \"192.168.4.1\"; # for direct connect\n",
    "params.ip_address = \"192.168.0.102\";\n",
    "params.ip_port = 6622;\n",
    "params.timeout = 0;\n",
    "board_id = BoardIds.CYTON_DAISY_WIFI_BOARD.value;\n",
    "board = BoardShim(board_id,params);\n",
    "print(\"Sampling Rate: \", board.get_sampling_rate(BoardIds.CYTON_DAISY_WIFI_BOARD.value));\n",
    "print(\"Device name: \", board.get_device_name(BoardIds.CYTON_DAISY_WIFI_BOARD.value));\n",
    "#print(board.get_sampling_rate(BoardIds.CYTON_DAISY_WIFI_BOARD.value));\n",
    "#print(\"Is prepared: \", board.is_prepared());"
   ]
  },
  {
   "cell_type": "code",
   "execution_count": 4,
   "id": "61a97799-f9c2-4632-b9ad-63bc9ff5e878",
   "metadata": {},
   "outputs": [],
   "source": [
    "# LSL initialization\n",
    "eeg_channels = BoardShim.get_eeg_channels(board_id)\n",
    "n_channels = len(eeg_channels)\n",
    "srate = board.get_sampling_rate(board.board_id)\n",
    "info = StreamInfo('OpenBCIEEG1', 'EXG', n_channels, srate, 'double64', 'OpenBCItestEEG1')\n",
    "outlet = StreamOutlet(info)\n",
    "fw_delay = 0"
   ]
  },
  {
   "cell_type": "code",
   "execution_count": 5,
   "id": "88e5a532-4468-4035-b396-135ccaee05c8",
   "metadata": {},
   "outputs": [],
   "source": [
    "board.prepare_session()\n",
    "\n",
    "# send commands to the board for every channel. Cyton has 8 Channels. Here, we turn off every channel except for 1 and 8.\n",
    "# This is here for testing purposes.\n",
    "#board.config_board(\"x1000110X\") #Lower the gain to 1x on channel 1\n",
    "#board.config_board(\"x1061000X\")\n",
    "#board.config_board(\"x2161000X\")\n",
    "#board.config_board(\"x3161000X\")\n",
    "#board.config_board(\"x4161000X\")\n",
    "#board.config_board(\"x5161000X\")\n",
    "#board.config_board(\"x6161000X\")\n",
    "#board.config_board(\"x7161000X\")\n",
    "#board.config_board(\"x8060110X\")\n",
    "\n",
    "# start stream\n",
    "board.start_stream(45000)\n",
    "time.sleep(1)\n",
    "\n",
    "start_time = local_clock()\n",
    "sent_samples = 0\n",
    "queue = Queue(maxsize = 5*srate)\n",
    "chans = channel_select(board, board.board_id, 'EXG')"
   ]
  },
  {
   "cell_type": "code",
   "execution_count": null,
   "id": "1a816b5f-40bb-443d-b53f-b8e2da9fb65e",
   "metadata": {},
   "outputs": [
    {
     "name": "stdout",
     "output_type": "stream",
     "text": [
      "Now sending data...\n"
     ]
    }
   ],
   "source": [
    "# read data with brainflow and send it via LSL\n",
    "print(\"Now sending data...\")\n",
    "first = True\n",
    "while True:\n",
    "    data = board.get_board_data()[chans]\n",
    "    # Dark Mode\n",
    "    if first:\n",
    "        board.config_board(\"P\");\n",
    "        first = False\n",
    "\n",
    "    for i in range(len(data[0])):\n",
    "        queue.put(data[:,i].tolist())\n",
    "    elapsed_time = local_clock() - start_time\n",
    "    required_samples = int(srate * elapsed_time) - sent_samples\n",
    "    if required_samples > 0 and queue.qsize() >= required_samples:    \n",
    "        mychunk = []\n",
    "\n",
    "        for i in range(required_samples):\n",
    "            mychunk.append(queue.get())\n",
    "        stamp = local_clock() - fw_delay \n",
    "        outlet.push_chunk(mychunk)\n",
    "        #print(mychunk[0])\n",
    "        sent_samples += required_samples\n",
    "    time.sleep(1)"
   ]
  }
 ],
 "metadata": {
  "kernelspec": {
   "display_name": "Python 3 (ipykernel)",
   "language": "python",
   "name": "python3"
  },
  "language_info": {
   "codemirror_mode": {
    "name": "ipython",
    "version": 3
   },
   "file_extension": ".py",
   "mimetype": "text/x-python",
   "name": "python",
   "nbconvert_exporter": "python",
   "pygments_lexer": "ipython3",
   "version": "3.9.7"
  }
 },
 "nbformat": 4,
 "nbformat_minor": 5
}
